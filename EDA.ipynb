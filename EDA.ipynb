{
 "cells": [
  {
   "cell_type": "code",
   "execution_count": null,
   "id": "468f8b0a",
   "metadata": {},
   "outputs": [],
   "source": [
    "import pickle\n",
    "from pathlib import Path\n",
    "import pandas as pd\n",
    "import numpy as np\n",
    "import matplotlib.pyplot as plt\n",
    "\n",
    "np.random.seed(42)\n",
    "np.random.RandomState(42)\n",
    "\n",
    "import time\n",
    "import datetime as dt\n",
    "#import statsmodels.api as sm\n",
    "from scipy import stats\n",
    "#from scipy.stats import norm, skew, kurtosis\n",
    "import seaborn as sns\n",
    "\n",
    "#from sklearn.linear_model import LinearRegression\n",
    "#from sklearn.svm import SVR\n",
    "#from sklearn.model_selection import train_test_split, TimeSeriesSplit, GridSearchCV,cross_val_score \n",
    "from sklearn import preprocessing\n",
    "#from sklearn.ensemble import BaggingRegressor, RandomForestRegressor, AdaBoostRegressor\n",
    "#from xgboost.sklearn import XGBRegressor\n",
    "#from sklearn.metrics import mean_absolute_error,r2_score, mean_squared_log_error,mean_squared_error, make_scorer"
   ]
  },
  {
   "cell_type": "code",
   "execution_count": null,
   "id": "50f65371",
   "metadata": {},
   "outputs": [],
   "source": [
    "data = pd.read_parquet(Path(\"data\") / \"train.parquet\")"
   ]
  },
  {
   "cell_type": "code",
   "execution_count": null,
   "id": "136c5e58",
   "metadata": {},
   "outputs": [],
   "source": [
    "data1 = pd.read_parquet(Path(\"data\") / \"test.parquet\")"
   ]
  },
  {
   "cell_type": "code",
   "execution_count": null,
   "id": "e2489db6",
   "metadata": {},
   "outputs": [],
   "source": [
    "df1 = pd.read_csv('2020.csv')"
   ]
  },
  {
   "cell_type": "code",
   "execution_count": null,
   "id": "92ec42c5",
   "metadata": {},
   "outputs": [],
   "source": [
    "df2 = pd.read_csv('2021.csv')"
   ]
  },
  {
   "cell_type": "code",
   "execution_count": null,
   "id": "4606041b",
   "metadata": {},
   "outputs": [],
   "source": [
    "public_holi20 = [\"2020-01-01\",'2020-04-10','2020-04-13','2020-05-01','2020-05-08','2020-05-21','2020-05-31','2020-06-01','2020-07-14','2020-08-15','2020-11-01','2020-11-11','2020-12-25','2020-12-26']"
   ]
  },
  {
   "cell_type": "code",
   "execution_count": null,
   "id": "ded1685a",
   "metadata": {},
   "outputs": [],
   "source": [
    "public_holi21 = [\"2021-01-01\",'2021-04-02','2021-04-05','2021-05-01','2021-05-08','2021-05-13','2021-05-23','2021-05-24','2021-07-14','2021-08-15','2021-11-01','2021-11-11','2021-12-25','2021-12-26']"
   ]
  },
  {
   "cell_type": "code",
   "execution_count": null,
   "id": "1b98dc6a",
   "metadata": {},
   "outputs": [],
   "source": [
    "dates_list = [dt.datetime.strptime(date, '%Y-%m-%d').date() for date in public_holi20]\n",
    "df1[\"date\"] = pd.to_datetime(df1[\"date\"])"
   ]
  },
  {
   "cell_type": "code",
   "execution_count": null,
   "id": "f3d16b46",
   "metadata": {},
   "outputs": [],
   "source": [
    "df1['holiday'] = df1['date'].isin(dates_list)\n",
    "df1.holiday = df1.holiday.replace([True, False], [1, 0])\n",
    "df1.loc[:, \"weekday\"] = df1[\"date\"].dt.weekday\n",
    "df1['weekend'] = df1['weekday'].isin([5,6])\n",
    "df1.weekend = df1.weekend.replace([True, False], [1, 0])\n",
    "df1 = df1.drop('weekday', axis=1)\n",
    "df1"
   ]
  },
  {
   "cell_type": "code",
   "execution_count": null,
   "id": "31a09a82",
   "metadata": {},
   "outputs": [],
   "source": [
    "dates_list = [dt.datetime.strptime(date, '%Y-%m-%d').date() for date in public_holi21]\n",
    "df2[\"date\"] = pd.to_datetime(df2[\"date\"])"
   ]
  },
  {
   "cell_type": "code",
   "execution_count": null,
   "id": "32544229",
   "metadata": {},
   "outputs": [],
   "source": [
    "df2['holiday'] = df2['date'].isin(dates_list)\n",
    "df2.holiday = df2.holiday.replace([True, False], [1, 0])\n",
    "df2.loc[:, \"weekday\"] = df2[\"date\"].dt.weekday\n",
    "df2['weekend'] = df2['weekday'].isin([5,6])\n",
    "df2.weekend = df2.weekend.replace([True, False], [1, 0])\n",
    "df2 = df2.drop('weekday', axis=1)\n",
    "df2"
   ]
  },
  {
   "cell_type": "code",
   "execution_count": null,
   "id": "7fe74a6c",
   "metadata": {},
   "outputs": [],
   "source": [
    "df1.loc[:, \"season\"] = df1[\"date\"].dt.month\n",
    "df1.season = df1.season.replace([1,2,3,4,5,6,7,8,9,10,11,12], [3,3,3,0,0,1,1,1,1,2,2,3])\n",
    "df1"
   ]
  },
  {
   "cell_type": "code",
   "execution_count": null,
   "id": "25642927",
   "metadata": {},
   "outputs": [],
   "source": [
    "df2.loc[:, \"season\"] = df2[\"date\"].dt.month\n",
    "df2.season = df2.season.replace([1,2,3,4,5,6,7,8,9,10,11,12], [3,3,3,0,0,1,1,1,1,2,2,3])\n",
    "df2"
   ]
  },
  {
   "cell_type": "code",
   "execution_count": null,
   "id": "d8d78c24",
   "metadata": {},
   "outputs": [],
   "source": [
    "df1['is_night'] = 0\n",
    "df1.loc[(df1['hour'] < 8) | (df1['hour'] > 20), 'is_night'] = 1\n",
    "df1"
   ]
  },
  {
   "cell_type": "code",
   "execution_count": null,
   "id": "501bbe4f",
   "metadata": {},
   "outputs": [],
   "source": [
    "df2['is_night'] = 0\n",
    "df2.loc[(df2['hour'] < 8) | (df2['hour'] > 20), 'is_night'] = 1\n",
    "df2"
   ]
  },
  {
   "cell_type": "code",
   "execution_count": null,
   "id": "840fa056",
   "metadata": {},
   "outputs": [],
   "source": [
    "weather = pd.concat([df1, df2], ignore_index=True)\n",
    "weather = weather.drop(columns=['snow', 'wpgt','tsun','coco','Coco'])"
   ]
  },
  {
   "cell_type": "code",
   "execution_count": null,
   "id": "c85e515b",
   "metadata": {},
   "outputs": [],
   "source": [
    "weather"
   ]
  },
  {
   "cell_type": "code",
   "execution_count": null,
   "id": "1bfc658d",
   "metadata": {},
   "outputs": [],
   "source": [
    "weather[\"hour\"] = pd.to_timedelta(weather['hour'], unit='h')\n",
    "weather['date'] = weather['date'] + weather['hour']\n",
    "weather = weather.drop(columns=['hour'])\n",
    "weather = weather.fillna(method='bfill')\n",
    "weather"
   ]
  },
  {
   "cell_type": "code",
   "execution_count": null,
   "id": "5c253fa5",
   "metadata": {},
   "outputs": [],
   "source": [
    "lock1 = pd.date_range(start='10/30/2020', end='12/02/2020', freq='H').tolist()\n",
    "lock2 = pd.date_range(start='04/03/2021', end='07/01/2021', freq='H').tolist()"
   ]
  },
  {
   "cell_type": "code",
   "execution_count": null,
   "id": "0082ee50",
   "metadata": {},
   "outputs": [],
   "source": [
    "weather['lockdown1'] = weather['date'].isin(lock1)\n",
    "weather.lockdown1 = weather.lockdown1.replace([True, False], [1, 0])\n",
    "weather"
   ]
  },
  {
   "cell_type": "code",
   "execution_count": null,
   "id": "767074df",
   "metadata": {},
   "outputs": [],
   "source": [
    "weather['lockdown2'] = weather['date'].isin(lock2)\n",
    "weather.lockdown2 = weather.lockdown2.replace([True, False], [1, 0])\n",
    "weather"
   ]
  },
  {
   "cell_type": "code",
   "execution_count": 1,
   "id": "720a0981",
   "metadata": {},
   "outputs": [],
   "source": [
    "#df.to_csv('external_data_covid.csv', date_format='%Y-%m-%d %H:%M:%S')"
   ]
  },
  {
   "cell_type": "code",
   "execution_count": null,
   "id": "cd4eaf22",
   "metadata": {},
   "outputs": [],
   "source": [
    "train_merged = data.merge(weather, on='date')"
   ]
  },
  {
   "cell_type": "code",
   "execution_count": null,
   "id": "382d77a9",
   "metadata": {},
   "outputs": [],
   "source": [
    "test_merged = data1.merge(weather, on='date')"
   ]
  },
  {
   "cell_type": "code",
   "execution_count": null,
   "id": "be23fb08",
   "metadata": {},
   "outputs": [],
   "source": [
    "train_merged"
   ]
  },
  {
   "cell_type": "code",
   "execution_count": null,
   "id": "96af9b62",
   "metadata": {},
   "outputs": [],
   "source": [
    "test_merged"
   ]
  },
  {
   "cell_type": "code",
   "execution_count": null,
   "id": "a75906e7",
   "metadata": {},
   "outputs": [],
   "source": [
    "cols = ['bike_count','log_bike_count','latitude','longitude','temp','dwpt','rhum','prcp','wdir','wspd','pres','holiday','weekend','season','is_night']\n",
    "def plot_distribution(london,columns,**kwargs ):\n",
    "    \"\"\"\n",
    "    Function to plot a dataframe feature distribution.\n",
    "    Input: \n",
    "    df - pandas DataFrame.\n",
    "    columns - list of the df columns that should be plotted\n",
    "    Output: multiple feature histograms\n",
    "    \n",
    "    Note: String columns should be dropped before passing to the function.\n",
    "    \"\"\"\n",
    "    \n",
    "    fig, axes = plt.subplots(ncols=len(columns),figsize=(30,5))\n",
    "    for axs, col in zip(axes, columns):\n",
    "        sns.distplot(london[col], ax=axs,**kwargs)\n",
    "    fig.suptitle('Feature distribution')\n",
    "    \n",
    "plot_distribution(train_merged,cols, kde=False)"
   ]
  },
  {
   "cell_type": "code",
   "execution_count": null,
   "id": "b1da2d6c",
   "metadata": {},
   "outputs": [],
   "source": [
    "train_merged_non_weekend = train_merged[train_merged['weekend'] == 0]\n",
    "train_merged_non_weekend = train_merged_non_weekend.drop(['holiday','weekend'],axis=1)\n",
    "train_merged_is_weekend = train_merged[train_merged['weekend'] == 1]\n",
    "train_merged_is_weekend = train_merged_is_weekend.drop(['holiday','weekend'],axis=1)\n",
    "train_merged_is_holiday = train_merged[train_merged['holiday'] == 1]\n",
    "train_merged_is_holiday = train_merged_is_holiday.drop(['holiday','weekend'],axis=1)\n",
    "train_merged_non_holiday = train_merged[train_merged['holiday'] == 0]\n",
    "train_merged_non_holiday = train_merged_non_holiday.drop(['holiday','weekend'],axis=1)\n"
   ]
  },
  {
   "cell_type": "code",
   "execution_count": null,
   "id": "247c7e69",
   "metadata": {},
   "outputs": [],
   "source": [
    "def hourly_plot(df,title):\n",
    "    \"\"\"\n",
    "    Function for plotting bike shares by hour.\n",
    "    input: \n",
    "    df - pandas dataframe \n",
    "    title - main title of the plot\n",
    "    \n",
    "    \"\"\"\n",
    "    df.groupby(by=df.date.dt.hour)['bike_count'].mean().plot()\n",
    "    plt.title(title)\n",
    "    plt.ylabel('count')\n",
    "    plt.legend(['workdays','weekend','holidays'],loc=2, fontsize = 'medium')\n",
    "    \n",
    "hourly_plot(train_merged_non_weekend, 'Bike shares by hour')\n",
    "hourly_plot(train_merged_is_weekend, 'Bike shares by hour')\n",
    "hourly_plot(train_merged_is_holiday, 'Bike shares by hour')\n"
   ]
  },
  {
   "cell_type": "code",
   "execution_count": 3,
   "id": "988e72b6",
   "metadata": {},
   "outputs": [
    {
     "ename": "NameError",
     "evalue": "name 'train_merged' is not defined",
     "output_type": "error",
     "traceback": [
      "\u001b[0;31m---------------------------------------------------------------------------\u001b[0m",
      "\u001b[0;31mNameError\u001b[0m                                 Traceback (most recent call last)",
      "Input \u001b[0;32mIn [3]\u001b[0m, in \u001b[0;36m<cell line: 1>\u001b[0;34m()\u001b[0m\n\u001b[0;32m----> 1\u001b[0m corr \u001b[38;5;241m=\u001b[39m \u001b[43mtrain_merged\u001b[49m\u001b[38;5;241m.\u001b[39mcorr()\n\u001b[1;32m      2\u001b[0m corr_bike_count \u001b[38;5;241m=\u001b[39m corr[\u001b[38;5;124m'\u001b[39m\u001b[38;5;124mlog_bike_count\u001b[39m\u001b[38;5;124m'\u001b[39m]\n\u001b[1;32m      3\u001b[0m \u001b[38;5;28mprint\u001b[39m(corr_bike_count)\n",
      "\u001b[0;31mNameError\u001b[0m: name 'train_merged' is not defined"
     ]
    }
   ],
   "source": [
    "corr = train_merged.corr()\n",
    "corr_bike_count = corr['log_bike_count']\n",
    "print(corr_bike_count)"
   ]
  },
  {
   "cell_type": "code",
   "execution_count": null,
   "id": "e9fffee8",
   "metadata": {},
   "outputs": [],
   "source": [
    "plt.figure(figsize = (20,20))\n",
    "sns.heatmap(corr, linewidths=1)"
   ]
  },
  {
   "cell_type": "code",
   "execution_count": null,
   "id": "80909d72",
   "metadata": {},
   "outputs": [],
   "source": [
    "train_merged.hist(figsize=(20, 30))"
   ]
  },
  {
   "cell_type": "code",
   "execution_count": null,
   "id": "a285a227",
   "metadata": {},
   "outputs": [],
   "source": [
    "def add_hour(df):\n",
    "    \"\"\"\n",
    "    The function is extracting the hour of a timestamp into a new column.\n",
    "    Input: pandas DataFrame that contains 'timestamp' column\n",
    "    \"\"\"\n",
    "    \n",
    "    df['hour'] = df['date'].dt.hour\n",
    "\n",
    "    return df"
   ]
  },
  {
   "cell_type": "code",
   "execution_count": null,
   "id": "28dc4b54",
   "metadata": {},
   "outputs": [],
   "source": [
    "def add_month(df):\n",
    "    \"\"\"\n",
    "    The function is extracting the month of a timestamp into a new column.\n",
    "    Input: pandas DataFrame that contains 'timestamp' column\n",
    "    \"\"\"\n",
    "    \n",
    "    df['month'] = df['date'].dt.month\n",
    "\n",
    "    return df"
   ]
  },
  {
   "cell_type": "code",
   "execution_count": null,
   "id": "7968996a",
   "metadata": {},
   "outputs": [],
   "source": [
    "add_month(train_merged)\n",
    "add_hour(train_merged)"
   ]
  },
  {
   "cell_type": "code",
   "execution_count": null,
   "id": "29f81399",
   "metadata": {},
   "outputs": [],
   "source": [
    "add_month(test_merged)\n",
    "add_hour(test_merged)"
   ]
  },
  {
   "cell_type": "code",
   "execution_count": null,
   "id": "e30c6f6e",
   "metadata": {},
   "outputs": [],
   "source": [
    "def add_encode(df, column, max_value):\n",
    "    \"\"\"\n",
    "    The function is encoding time series cyclical features with sin and cos.\n",
    "    Input: \n",
    "    ---------\n",
    "    df - pandas DataFrame\n",
    "    column - column name\n",
    "    max_value - column max value\n",
    "    Output: \n",
    "    -----------\n",
    "    -same dataframe with _sin and _cos columns added\n",
    "    \"\"\"\n",
    "\n",
    "    df[column + '_sin'] = np.sin(2 * np.pi * df[column] / max_value)\n",
    "    df[column + '_cos'] = np.cos(2 * np.pi * df[column] / max_value)\n",
    "    return df"
   ]
  },
  {
   "cell_type": "code",
   "execution_count": null,
   "id": "e56124d3",
   "metadata": {},
   "outputs": [],
   "source": [
    "add_encode(train_merged,'hour',23)\n",
    "add_encode(train_merged,'month',12)"
   ]
  },
  {
   "cell_type": "code",
   "execution_count": null,
   "id": "cf06f9bf",
   "metadata": {},
   "outputs": [],
   "source": [
    "add_encode(test_merged,'hour',23)\n",
    "add_encode(test_merged,'month',12)"
   ]
  },
  {
   "cell_type": "code",
   "execution_count": null,
   "id": "726ba66a",
   "metadata": {},
   "outputs": [],
   "source": [
    "train_merged[train_merged['log_bike_count']>3].groupby(by='hour').count()"
   ]
  },
  {
   "cell_type": "code",
   "execution_count": null,
   "id": "58cf22dd",
   "metadata": {},
   "outputs": [],
   "source": [
    "def sns_hist(data,title):\n",
    "    \"\"\"\"\n",
    "    Function to plot seaborn histogram.\n",
    "    \"\"\"\n",
    "    \n",
    "    sns.distplot(data)#, fit='norm')\n",
    "    plt.title(title)\n",
    "    plt.ylabel('Density')"
   ]
  },
  {
   "cell_type": "code",
   "execution_count": null,
   "id": "c0bd7797",
   "metadata": {},
   "outputs": [],
   "source": [
    "sns_hist(train_merged[train_merged['is_night']==1]['log_bike_count'],\"during the night.\")"
   ]
  },
  {
   "cell_type": "code",
   "execution_count": null,
   "id": "1a863991",
   "metadata": {},
   "outputs": [],
   "source": [
    "sns_hist(train_merged[train_merged['is_night']==0]['log_bike_count'],\"during the day.\")"
   ]
  },
  {
   "cell_type": "code",
   "execution_count": null,
   "id": "53dcdb6b",
   "metadata": {},
   "outputs": [],
   "source": [
    "train_merged['counter_installation_date'].unique()"
   ]
  },
  {
   "cell_type": "code",
   "execution_count": null,
   "id": "20d35f8b",
   "metadata": {},
   "outputs": [],
   "source": [
    "dm = dt.datetime.strptime('2020-11-29 00:00:00','%Y-%m-%d %H:%M:%S')\n",
    "dm"
   ]
  },
  {
   "cell_type": "code",
   "execution_count": null,
   "id": "5747334e",
   "metadata": {},
   "outputs": [],
   "source": [
    "train_merged.loc[train_merged['counter_installation_date'] == dm]\n",
    "#elm = train_merged.loc[train_merged['counter_installation_date'] < dm]\n",
    "#elm"
   ]
  },
  {
   "cell_type": "code",
   "execution_count": null,
   "id": "a836531a",
   "metadata": {},
   "outputs": [],
   "source": [
    "elm.loc[elm['site_name'] == '254 rue de Vaugirard']"
   ]
  },
  {
   "cell_type": "code",
   "execution_count": null,
   "id": "6208ebec",
   "metadata": {},
   "outputs": [],
   "source": [
    "elm['site_name'].unique().to_list()"
   ]
  },
  {
   "cell_type": "code",
   "execution_count": null,
   "id": "e2ee164f",
   "metadata": {},
   "outputs": [],
   "source": []
  }
 ],
 "metadata": {
  "kernelspec": {
   "display_name": "Python 3 (ipykernel)",
   "language": "python",
   "name": "python3"
  },
  "language_info": {
   "codemirror_mode": {
    "name": "ipython",
    "version": 3
   },
   "file_extension": ".py",
   "mimetype": "text/x-python",
   "name": "python",
   "nbconvert_exporter": "python",
   "pygments_lexer": "ipython3",
   "version": "3.9.12"
  }
 },
 "nbformat": 4,
 "nbformat_minor": 5
}
