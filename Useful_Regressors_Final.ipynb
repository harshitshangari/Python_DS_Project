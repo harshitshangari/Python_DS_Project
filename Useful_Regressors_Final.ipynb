{
 "cells": [
  {
   "cell_type": "code",
   "execution_count": 3,
   "id": "becoming-crystal",
   "metadata": {},
   "outputs": [],
   "source": [
    "import pickle\n",
    "from urllib.request import urlopen\n",
    "from pathlib import Path\n",
    "import pandas as pd\n",
    "import numpy as np\n",
    "import matplotlib.pyplot as plt\n",
    "\n",
    "np.random.seed(42)\n",
    "\n",
    "from sklearn import preprocessing\n",
    "from sklearn.ensemble import BaggingRegressor\n",
    "from xgboost.sklearn import XGBRegressor\n",
    "from sklearn.linear_model import Ridge\n",
    "from sklearn.model_selection import RandomizedSearchCV\n",
    "from catboost import CatBoostRegressor\n",
    "from sklearn.ensemble import GradientBoostingRegressor\n",
    "from lightgbm import LGBMRegressor"
   ]
  },
  {
   "cell_type": "code",
   "execution_count": 8,
   "id": "supported-calgary",
   "metadata": {},
   "outputs": [],
   "source": [
    "# dataset website: https://dev.meteostat.net/bulk/hourly.html#endpoints\n",
    "# dataset 2020 https://bulk.meteostat.net/v2/hourly/2020/07156.csv.gz\n",
    "# dataset 2021 https://bulk.meteostat.net/v2/hourly/2021/07156.csv.gz\n",
    "# license https://dev.meteostat.net/terms.html#license"
   ]
  },
  {
   "cell_type": "markdown",
   "id": "corresponding-tuition",
   "metadata": {},
   "source": [
    "## This notebook contains a list of regressors we found useful and hence noted down there mean cv and bagged scores."
   ]
  },
  {
   "cell_type": "markdown",
   "id": "bright-london",
   "metadata": {},
   "source": [
    "# With Covid data (Standard scaling all variables)"
   ]
  },
  {
   "cell_type": "markdown",
   "id": "related-findings",
   "metadata": {},
   "source": [
    "## Catboost"
   ]
  },
  {
   "cell_type": "code",
   "execution_count": 21,
   "id": "fatal-remedy",
   "metadata": {},
   "outputs": [],
   "source": [
    "regressor = CatBoostRegressor(\n",
    "        iterations=1000,\n",
    "        learning_rate=0.05,\n",
    "        depth=10,\n",
    "        l2_leaf_reg=10,\n",
    "        bootstrap_type = \"Bayesian\",\n",
    "        bagging_temperature = 0.5,\n",
    "        random_strength=5)"
   ]
  },
  {
   "cell_type": "markdown",
   "id": "instrumental-practice",
   "metadata": {},
   "source": [
    "Mean CV scores\n",
    "----------------------------\n",
    "\tscore            rmse          time\n",
    "\ttrain  0.341 ± 0.0324  64.1 ± 25.51\n",
    "\tvalid  0.679 ± 0.1041    3.3 ± 0.48\n",
    "\ttest   0.565 ± 0.0198    0.4 ± 0.06\n",
    "----------------------------\n",
    "Bagged scores\n",
    "----------------------------\n",
    "\tscore   rmse\n",
    "\tvalid  0.687\n",
    "\ttest   0.545\n"
   ]
  },
  {
   "cell_type": "code",
   "execution_count": 22,
   "id": "renewable-metro",
   "metadata": {},
   "outputs": [],
   "source": [
    "regressor = CatBoostRegressor(\n",
    "        iterations=1000,\n",
    "        learning_rate=0.05,\n",
    "        depth=10,\n",
    "        l2_leaf_reg=5,\n",
    "        bootstrap_type = \"Bayesian\",\n",
    "        bagging_temperature = 0.5,\n",
    "        random_strength=5)"
   ]
  },
  {
   "cell_type": "markdown",
   "id": "northern-stroke",
   "metadata": {},
   "source": [
    "Mean CV scores\n",
    "----------------------------\n",
    "\tscore            rmse          time\n",
    "\ttrain  0.336 ± 0.0341  61.6 ± 28.64\n",
    "\tvalid  0.678 ± 0.1085    3.1 ± 0.13\n",
    "\ttest   0.561 ± 0.0207    0.4 ± 0.06\n",
    "----------------------------\n",
    "Bagged scores\n",
    "----------------------------\n",
    "\tscore   rmse\n",
    "\tvalid  0.686\n",
    "\ttest   0.541\n"
   ]
  },
  {
   "cell_type": "code",
   "execution_count": 5,
   "id": "heavy-jamaica",
   "metadata": {},
   "outputs": [],
   "source": [
    "regressor = CatBoostRegressor(\n",
    "        iterations=1000,\n",
    "        learning_rate=0.05,\n",
    "        depth=10,\n",
    "        l2_leaf_reg=15,\n",
    "        bootstrap_type = \"Bayesian\",\n",
    "        bagging_temperature = 0.5,\n",
    "        random_strength=5)"
   ]
  },
  {
   "cell_type": "markdown",
   "id": "fleet-immunology",
   "metadata": {},
   "source": [
    "Mean CV scores\n",
    "----------------------------\n",
    "\tscore            rmse          time\n",
    "\ttrain  0.344 ± 0.0313  64.4 ± 26.56\n",
    "\tvalid  0.679 ± 0.1119    3.2 ± 0.27\n",
    "\ttest   0.565 ± 0.0199    0.4 ± 0.04\n",
    "----------------------------\n",
    "Bagged scores\n",
    "----------------------------\n",
    "\tscore   rmse\n",
    "\tvalid  0.688\n",
    "    test   0.548"
   ]
  },
  {
   "cell_type": "code",
   "execution_count": 6,
   "id": "thirty-greene",
   "metadata": {},
   "outputs": [],
   "source": [
    "regressor = CatBoostRegressor(\n",
    "        iterations=700,\n",
    "        learning_rate=0.03,\n",
    "        depth=10,\n",
    "        l2_leaf_reg=5,\n",
    "        bootstrap_type = \"Bayesian\",\n",
    "        bagging_temperature = 0.4,\n",
    "        random_strength=6)"
   ]
  },
  {
   "cell_type": "markdown",
   "id": "altered-minutes",
   "metadata": {},
   "source": [
    "Mean CV scores\n",
    "----------------------------\n",
    "\tscore            rmse          time\n",
    "\ttrain  0.415 ± 0.0393  44.9 ± 19.86\n",
    "\tvalid    0.7 ± 0.1018    2.8 ± 0.11\n",
    "\ttest   0.574 ± 0.0138    0.3 ± 0.01\n",
    "----------------------------\n",
    "Bagged scores\n",
    "----------------------------\n",
    "\tscore   rmse\n",
    "\tvalid  0.707\n",
    "\ttest   0.559\n"
   ]
  },
  {
   "cell_type": "markdown",
   "id": "inside-turtle",
   "metadata": {},
   "source": [
    "## XGBoost"
   ]
  },
  {
   "cell_type": "code",
   "execution_count": 23,
   "id": "connected-classic",
   "metadata": {},
   "outputs": [],
   "source": [
    "regressor = XGBRegressor(colsample_bytree=0.4,eval_metric='rmse',\n",
    "                         gamma=0.3, learning_rate=0.1,\n",
    "                         max_cat_threshold=64, max_cat_to_onehot=4,\n",
    "                         max_depth=9, min_child_weight=3,\n",
    "                         n_estimators=200, random_state=0)"
   ]
  },
  {
   "cell_type": "markdown",
   "id": "abroad-terror",
   "metadata": {},
   "source": [
    "Mean CV scores\n",
    "----------------------------\n",
    "\tscore            rmse          time\n",
    "\ttrain  0.341 ± 0.0398  35.8 ± 19.08\n",
    "\tvalid   0.709 ± 0.106    4.4 ± 0.32\n",
    "\ttest     0.6 ± 0.0206    0.5 ± 0.02\n",
    "----------------------------\n",
    "Bagged scores\n",
    "----------------------------\n",
    "\tscore   rmse\n",
    "\tvalid  0.717\n",
    "\ttest   0.564"
   ]
  },
  {
   "cell_type": "code",
   "execution_count": 25,
   "id": "treated-incidence",
   "metadata": {},
   "outputs": [],
   "source": [
    "regressor = XGBRegressor(colsample_bytree=0.4, eval_metric='rmse',\n",
    "                         gamma=0.5, learning_rate=0.05,\n",
    "                         max_cat_threshold=64, max_cat_to_onehot=4,\n",
    "                         max_depth=9, min_child_weight=4,\n",
    "                         n_estimators=200, subsample=0.5,\n",
    "                         random_state=0)"
   ]
  },
  {
   "cell_type": "markdown",
   "id": "instant-stage",
   "metadata": {},
   "source": [
    "Mean CV scores\n",
    "----------------------------\n",
    "\tscore            rmse          time\n",
    "\ttrain  0.418 ± 0.0416  31.1 ± 16.31\n",
    "\tvalid   0.717 ± 0.092    4.2 ± 0.19\n",
    "\ttest     0.59 ± 0.014    0.5 ± 0.02\n",
    "----------------------------\n",
    "Bagged scores\n",
    "----------------------------\n",
    "\tscore   rmse\n",
    "\tvalid  0.723\n",
    "\ttest   0.566\n"
   ]
  },
  {
   "cell_type": "markdown",
   "id": "chubby-discovery",
   "metadata": {},
   "source": [
    "## LightGBM"
   ]
  },
  {
   "cell_type": "code",
   "execution_count": 30,
   "id": "racial-courage",
   "metadata": {},
   "outputs": [],
   "source": [
    "regressor = LGBMRegressor(learning_rate=0.05, n_estimators=1000,\n",
    "                          colsample_bytree=0.7, reg_lambda=0.5)"
   ]
  },
  {
   "cell_type": "markdown",
   "id": "amino-soccer",
   "metadata": {},
   "source": [
    "Mean CV scores\n",
    "----------------------------\n",
    "\tscore            rmse         time\n",
    "\ttrain  0.368 ± 0.0345    6.1 ± 2.5\n",
    "\tvalid  0.738 ± 0.1012  11.2 ± 0.76\n",
    "\ttest   0.606 ± 0.0315   1.1 ± 0.04\n",
    "----------------------------\n",
    "Bagged scores\n",
    "----------------------------\n",
    "\tscore   rmse\n",
    "\tvalid  0.745\n",
    "\ttest   0.566\n"
   ]
  },
  {
   "cell_type": "markdown",
   "id": "communist-national",
   "metadata": {},
   "source": [
    "## Gradient Boosting"
   ]
  },
  {
   "cell_type": "code",
   "execution_count": 31,
   "id": "norwegian-amount",
   "metadata": {},
   "outputs": [],
   "source": [
    "regressor = GradientBoostingRegressor(max_depth=4, n_estimators=200, random_state=0)"
   ]
  },
  {
   "cell_type": "markdown",
   "id": "operating-restaurant",
   "metadata": {},
   "source": [
    "Mean CV scores\n",
    "----------------------------\n",
    "\tscore            rmse          time\n",
    "\ttrain  0.516 ± 0.0562  83.3 ± 49.52\n",
    "\tvalid  0.761 ± 0.1123    3.4 ± 0.07\n",
    "\ttest   0.642 ± 0.0177    0.4 ± 0.01\n",
    "----------------------------\n",
    "Bagged scores\n",
    "----------------------------\n",
    "\tscore   rmse\n",
    "\tvalid  0.769\n",
    "\ttest   0.614"
   ]
  },
  {
   "cell_type": "markdown",
   "id": "individual-albert",
   "metadata": {},
   "source": [
    "# Final Best Data"
   ]
  },
  {
   "cell_type": "markdown",
   "id": "complex-hours",
   "metadata": {},
   "source": [
    "## CatBoost"
   ]
  },
  {
   "cell_type": "code",
   "execution_count": 55,
   "id": "infectious-clone",
   "metadata": {},
   "outputs": [],
   "source": [
    "regressor = CatBoostRegressor(\n",
    "        iterations=1000,\n",
    "        learning_rate=0.05,\n",
    "        depth=10,\n",
    "        l2_leaf_reg=5,\n",
    "        bootstrap_type = \"Bayesian\",\n",
    "        bagging_temperature = 0.5,\n",
    "        random_strength=5)"
   ]
  },
  {
   "cell_type": "markdown",
   "id": "positive-conflict",
   "metadata": {},
   "source": [
    "Mean CV scores\n",
    "----------------------------\n",
    "\tscore            rmse          time\n",
    "\ttrain  0.369 ± 0.0343  52.8 ± 23.44\n",
    "\tvalid  0.695 ± 0.1103    2.5 ± 0.35\n",
    "\ttest   0.568 ± 0.0253    0.3 ± 0.02\n",
    "----------------------------\n",
    "Bagged scores\n",
    "----------------------------\n",
    "\tscore   rmse\n",
    "\tvalid  0.704\n",
    "\ttest   0.541\n"
   ]
  },
  {
   "cell_type": "code",
   "execution_count": 56,
   "id": "stock-future",
   "metadata": {},
   "outputs": [],
   "source": [
    "regressor = CatBoostRegressor(\n",
    "        iterations=1000,\n",
    "        learning_rate=0.05,\n",
    "        depth=10,\n",
    "        l2_leaf_reg=10,\n",
    "        bootstrap_type = \"Bayesian\",\n",
    "        bagging_temperature = 0.5,\n",
    "        random_strength=5)"
   ]
  },
  {
   "cell_type": "markdown",
   "id": "informal-glasgow",
   "metadata": {},
   "source": [
    "Mean CV scores\n",
    "----------------------------\n",
    "\tscore            rmse          time\n",
    "\ttrain  0.375 ± 0.0321  52.5 ± 17.67\n",
    "\tvalid  0.693 ± 0.1056    2.5 ± 0.36\n",
    "\ttest   0.572 ± 0.0295    0.3 ± 0.01\n",
    "----------------------------\n",
    "Bagged scores\n",
    "----------------------------\n",
    "\tscore   rmse\n",
    "\tvalid  0.701\n",
    "\ttest   0.540\n"
   ]
  },
  {
   "cell_type": "code",
   "execution_count": 57,
   "id": "grateful-howard",
   "metadata": {},
   "outputs": [],
   "source": [
    "regressor = CatBoostRegressor(\n",
    "        iterations=1000,\n",
    "        learning_rate=0.1,\n",
    "        depth=8,\n",
    "        l2_leaf_reg=7,\n",
    "        bootstrap_type = \"Bayesian\",\n",
    "        bagging_temperature = 0.3,\n",
    "        random_strength=3)"
   ]
  },
  {
   "cell_type": "markdown",
   "id": "adolescent-investigation",
   "metadata": {},
   "source": [
    "Mean CV scores\n",
    "----------------------------\n",
    "\tscore            rmse         time\n",
    "\ttrain  0.355 ± 0.0332  20.3 ± 8.88\n",
    "\tvalid  0.695 ± 0.1091   1.9 ± 0.17\n",
    "\ttest   0.571 ± 0.0266   0.2 ± 0.03\n",
    "----------------------------\n",
    "Bagged scores\n",
    "----------------------------\n",
    "\tscore   rmse\n",
    "\tvalid  0.703\n",
    "\ttest   0.539\n"
   ]
  },
  {
   "cell_type": "code",
   "execution_count": 7,
   "id": "representative-boating",
   "metadata": {},
   "outputs": [],
   "source": [
    "regressor = CatBoostRegressor(\n",
    "        iterations=1000,\n",
    "        learning_rate=0.1,\n",
    "        depth=8,\n",
    "        l2_leaf_reg=10,\n",
    "        bootstrap_type = \"Bayesian\",\n",
    "        bagging_temperature = 0.3,\n",
    "        random_strength=3\n",
    "    )"
   ]
  },
  {
   "cell_type": "markdown",
   "id": "placed-seattle",
   "metadata": {},
   "source": [
    "Mean CV scores\n",
    "----------------------------\n",
    "\tscore            rmse         time\n",
    "\ttrain  0.358 ± 0.0323  21.8 ± 8.43\n",
    "\tvalid  0.696 ± 0.1121   2.1 ± 0.34\n",
    "\ttest   0.573 ± 0.0251   0.2 ± 0.03\n",
    "----------------------------\n",
    "Bagged scores\n",
    "----------------------------\n",
    "\tscore   rmse\n",
    "\tvalid  0.705\n",
    "\ttest   0.537\n"
   ]
  },
  {
   "cell_type": "markdown",
   "id": "nuclear-integer",
   "metadata": {},
   "source": [
    "## XGBoost"
   ]
  },
  {
   "cell_type": "code",
   "execution_count": 59,
   "id": "african-connection",
   "metadata": {},
   "outputs": [],
   "source": [
    "regressor = XGBRegressor(colsample_bytree=0.4, eval_metric='rmse',\n",
    "                         gamma=0.3, learning_rate=0.1,\n",
    "                         max_cat_threshold=64, max_cat_to_onehot=4,\n",
    "                         max_depth=9, min_child_weight=3,\n",
    "                         n_estimators=200, random_state=0)"
   ]
  },
  {
   "cell_type": "markdown",
   "id": "affecting-defensive",
   "metadata": {},
   "source": [
    "Mean CV scores\n",
    "----------------------------\n",
    "\tscore            rmse          time\n",
    "\ttrain  0.382 ± 0.0389  23.1 ± 11.71\n",
    "\tvalid  0.704 ± 0.0868    3.4 ± 0.11\n",
    "\ttest   0.597 ± 0.0129    0.4 ± 0.02\n",
    "----------------------------\n",
    "Bagged scores\n",
    "----------------------------\n",
    "\tscore   rmse\n",
    "\tvalid  0.709\n",
    "\ttest   0.548\n"
   ]
  },
  {
   "cell_type": "code",
   "execution_count": 60,
   "id": "underlying-softball",
   "metadata": {},
   "outputs": [],
   "source": [
    "regressor = XGBRegressor(colsample_bytree=0.4, eval_metric='rmse',\n",
    "                         gamma=0.5, learning_rate=0.05,\n",
    "                         max_cat_threshold=64, max_cat_to_onehot=4, \n",
    "                         max_depth=9, min_child_weight=4,\n",
    "                         n_estimators=200, subsample=0.5,\n",
    "                         random_state=0)"
   ]
  },
  {
   "cell_type": "markdown",
   "id": "received-request",
   "metadata": {},
   "source": [
    "Mean CV scores\n",
    "----------------------------\n",
    "\tscore            rmse          time\n",
    "\ttrain  0.472 ± 0.0414  23.6 ± 13.18\n",
    "\tvalid  0.745 ± 0.0882    3.8 ± 1.37\n",
    "\ttest   0.611 ± 0.0189    0.4 ± 0.03\n",
    "----------------------------\n",
    "Bagged scores\n",
    "----------------------------\n",
    "\tscore   rmse\n",
    "\tvalid  0.750\n",
    "\ttest   0.568\n"
   ]
  },
  {
   "cell_type": "code",
   "execution_count": 61,
   "id": "smoking-benjamin",
   "metadata": {},
   "outputs": [],
   "source": [
    "regressor = XGBRegressor(colsample_bytree=0.7, eval_metric='rmse',\n",
    "                         gamma=0.4,learning_rate=0.1,\n",
    "                         max_cat_threshold=64, max_cat_to_onehot=4, \n",
    "                         max_depth=10, min_child_weight=7,\n",
    "                         n_estimators=500, random_state=0)"
   ]
  },
  {
   "cell_type": "markdown",
   "id": "external-forestry",
   "metadata": {},
   "source": [
    "Mean CV scores\n",
    "----------------------------\n",
    "\tscore            rmse          time\n",
    "\ttrain  0.291 ± 0.0254  92.0 ± 46.48\n",
    "\tvalid  0.694 ± 0.0998    9.2 ± 0.73\n",
    "\ttest   0.601 ± 0.0176    0.9 ± 0.07\n",
    "----------------------------\n",
    "Bagged scores\n",
    "----------------------------\n",
    "\tscore   rmse\n",
    "\tvalid  0.701\n",
    "\ttest   0.547\n"
   ]
  }
 ],
 "metadata": {
  "kernelspec": {
   "display_name": "Python 3",
   "language": "python",
   "name": "python3"
  },
  "language_info": {
   "codemirror_mode": {
    "name": "ipython",
    "version": 3
   },
   "file_extension": ".py",
   "mimetype": "text/x-python",
   "name": "python",
   "nbconvert_exporter": "python",
   "pygments_lexer": "ipython3",
   "version": "3.8.5"
  }
 },
 "nbformat": 4,
 "nbformat_minor": 5
}
