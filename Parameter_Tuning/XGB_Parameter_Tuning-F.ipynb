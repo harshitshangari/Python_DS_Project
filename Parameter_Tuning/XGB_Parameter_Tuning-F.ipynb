{
 "cells": [
  {
   "cell_type": "code",
   "execution_count": null,
   "id": "76acb420",
   "metadata": {},
   "outputs": [],
   "source": [
    "from pathlib import Path\n",
    "\n",
    "import numpy as np\n",
    "import pandas as pd\n",
    "from sklearn.preprocessing import FunctionTransformer\n",
    "from sklearn.preprocessing import OneHotEncoder\n",
    "from sklearn.preprocessing import StandardScaler\n",
    "from sklearn.pipeline import make_pipeline\n",
    "from sklearn.compose import ColumnTransformer\n",
    "from sklearn.linear_model import Ridge\n",
    "from sklearn.ensemble import RandomForestRegressor\n",
    "import xgboost as xgb\n",
    "from xgboost.sklearn import XGBRegressor\n",
    "from sklearn.ensemble import BaggingRegressor, RandomForestRegressor, AdaBoostRegressor\n",
    "from sklearn.svm import SVR\n",
    "import lightgbm as lgb\n",
    "from sklearn.neighbors import KNeighborsRegressor"
   ]
  },
  {
   "cell_type": "code",
   "execution_count": null,
   "id": "de7739d7",
   "metadata": {},
   "outputs": [],
   "source": [
    "import pickle\n",
    "from urllib.request import urlopen\n",
    "from pathlib import Path\n",
    "import pandas as pd\n",
    "import numpy as np\n",
    "import matplotlib.pyplot as plt\n",
    "\n",
    "np.random.seed(42)\n",
    "np.random.RandomState(42)\n",
    "\n",
    "import seaborn as sns\n",
    "\n",
    "#import unittest\n",
    "from nose.tools import *\n",
    "\n",
    "import time\n",
    "import datetime as dt\n",
    "import statsmodels.api as sm\n",
    "from scipy import stats\n",
    "from scipy.stats import norm, skew, kurtosis\n",
    "\n",
    "from sklearn.linear_model import LinearRegression\n",
    "from sklearn.svm import SVR\n",
    "from sklearn.model_selection import train_test_split, TimeSeriesSplit, GridSearchCV,cross_val_score \n",
    "from sklearn import preprocessing\n",
    "from sklearn.ensemble import BaggingRegressor, RandomForestRegressor, AdaBoostRegressor\n",
    "from xgboost.sklearn import XGBRegressor\n",
    "from sklearn.metrics import mean_absolute_error,r2_score, mean_squared_log_error,mean_squared_error, make_scorer\n",
    "\n",
    "from sklearn.compose import ColumnTransformer\n",
    "from sklearn.linear_model import Ridge\n",
    "from sklearn.pipeline import make_pipeline\n",
    "from sklearn.preprocessing import FunctionTransformer\n",
    "from sklearn.preprocessing import OneHotEncoder\n",
    "from sklearn.model_selection import RandomizedSearchCV\n",
    "import joblib\n",
    "from catboost import CatBoostRegressor\n",
    "from sklearn.ensemble import GradientBoostingRegressor\n",
    "from lightgbm import LGBMRegressor"
   ]
  },
  {
   "cell_type": "code",
   "execution_count": null,
   "id": "57511c57",
   "metadata": {},
   "outputs": [],
   "source": [
    "fin_ext_data = pd.read_csv(\"/Users/madhuranirale/Desktop/Project/Python_DS_Project/external_data_no_cyc.csv\")"
   ]
  },
  {
   "cell_type": "code",
   "execution_count": null,
   "id": "4cf4b7a7",
   "metadata": {},
   "outputs": [],
   "source": [
    "data = pd.read_parquet(Path(\"data\") / \"train.parquet\")"
   ]
  },
  {
   "cell_type": "code",
   "execution_count": null,
   "id": "3d047fbd",
   "metadata": {},
   "outputs": [],
   "source": [
    "data1 = pd.read_parquet(Path(\"data\") / \"test.parquet\")"
   ]
  },
  {
   "cell_type": "code",
   "execution_count": null,
   "id": "6e15b621",
   "metadata": {},
   "outputs": [],
   "source": [
    "fin_ext_data"
   ]
  },
  {
   "cell_type": "code",
   "execution_count": null,
   "id": "665a22a3",
   "metadata": {},
   "outputs": [],
   "source": [
    "fin_ext_data = fin_ext_data.drop(['Unnamed: 0'], axis=1)\n",
    "fin_ext_data['date'] = pd.to_datetime(fin_ext_data['date'])\n"
   ]
  },
  {
   "cell_type": "code",
   "execution_count": null,
   "id": "1dfdbd1a",
   "metadata": {},
   "outputs": [],
   "source": [
    "fin_ext_data"
   ]
  },
  {
   "cell_type": "code",
   "execution_count": null,
   "id": "56ca3823",
   "metadata": {},
   "outputs": [],
   "source": [
    "train_merged = data.merge(fin_ext_data, on='date')"
   ]
  },
  {
   "cell_type": "code",
   "execution_count": null,
   "id": "7997e2c1",
   "metadata": {},
   "outputs": [],
   "source": [
    "test_merged = data1.merge(fin_ext_data, on='date')"
   ]
  },
  {
   "cell_type": "code",
   "execution_count": null,
   "id": "00148c6d",
   "metadata": {},
   "outputs": [],
   "source": [
    "data_tr = train_merged.sort_values([\"date\", \"counter_name\"])\n",
    "y_train = data_tr[\"log_bike_count\"].values\n",
    "X_train = data_tr.drop([\"log_bike_count\", \"bike_count\"], axis=1)"
   ]
  },
  {
   "cell_type": "code",
   "execution_count": null,
   "id": "1e5f50a6",
   "metadata": {},
   "outputs": [],
   "source": [
    "data_ts = test_merged.sort_values([\"date\", \"counter_name\"])\n",
    "y_test = data_ts[\"log_bike_count\"].values\n",
    "X_test = data_ts.drop([\"log_bike_count\", \"bike_count\"], axis=1)"
   ]
  },
  {
   "cell_type": "code",
   "execution_count": null,
   "id": "cc961756",
   "metadata": {},
   "outputs": [],
   "source": [
    "def _encode_dates(X):\n",
    "    X = X.copy()  # modify a copy of X\n",
    "    X.loc[:, \"year\"] = X[\"date\"].dt.year\n",
    "    X.loc[:, \"month\"] = X[\"date\"].dt.month\n",
    "    X.loc[:, \"day\"] = X[\"date\"].dt.day\n",
    "    X.loc[:, \"weekday\"] = X[\"date\"].dt.weekday\n",
    "    X.loc[:, \"hour\"] = X[\"date\"].dt.hour\n",
    "\n",
    "    # Finally we can drop the original columns from the dataframe\n",
    "    return X.drop(columns=[\"date\"])"
   ]
  },
  {
   "cell_type": "code",
   "execution_count": null,
   "id": "73a3a08e",
   "metadata": {},
   "outputs": [],
   "source": [
    "from sklearn.compose import ColumnTransformer\n",
    "from sklearn.linear_model import Ridge\n",
    "from sklearn.pipeline import make_pipeline\n",
    "import time\n",
    "\n",
    "date_encoder = FunctionTransformer(_encode_dates)\n",
    "date_cols = _encode_dates(X_train[[\"date\"]]).columns.tolist()\n",
    "num_features = ['temp', 'dwpt', 'rhum', 'prcp', 'wdir', 'wspd','pres']\n",
    "\n",
    "categorical_encoder = OneHotEncoder(handle_unknown=\"ignore\")\n",
    "categorical_cols = [\"counter_name\", \"site_name\", \"season\"]\n",
    "\n",
    "rest_cols = ['holiday', 'weekend', 'is_night', 'lockdown1', 'lockdown2']\n",
    "\n",
    "preprocessor = ColumnTransformer(\n",
    "    [\n",
    "        (\"date\", OneHotEncoder(handle_unknown=\"ignore\"), date_cols),\n",
    "        (\"cat\", categorical_encoder, categorical_cols),\n",
    "        (\"numf\", StandardScaler(), num_features),\n",
    "        (\"rem\", 'passthrough', rest_cols)\n",
    "    ]\n",
    ")\n",
    "\n",
    "params = {\n",
    " \"xgbregressor__learning_rate\" : [0.05,0.10,0.15,0.20],\n",
    " \"xgbregressor__max_depth\" : [5, 6, 8, 9, 10, 12],\n",
    " \"xgbregressor__min_child_weight\" : [ 1, 3, 4, 5, 7 ],\n",
    " \"xgbregressor__gamma\": [0.1, 0.2, 0.3, 0.4],\n",
    " \"xgbregressor__colsample_bytree\" : [ 0.3, 0.4, 0.5 , 0.7 ],\n",
    " \"xgbregressor__n_estimators\" : [100, 200, 300, 400, 500]\n",
    "}\n",
    "\n",
    "regressor = XGBRegressor()\n",
    "pipe = make_pipeline(date_encoder, preprocessor, regressor)\n",
    "rscv = RandomizedSearchCV(pipe, param_distributions=params, n_iter=50, scoring=\"neg_root_mean_squared_error\", n_jobs=-1, cv=5, verbose=3)\n",
    "rscv.fit(X_train, y_train)"
   ]
  },
  {
   "cell_type": "code",
   "execution_count": null,
   "id": "c4b4e518",
   "metadata": {},
   "outputs": [],
   "source": [
    "bestparams = rscv.best_params_\n",
    "bestparams"
   ]
  },
  {
   "cell_type": "code",
   "execution_count": null,
   "id": "e82cb287",
   "metadata": {},
   "outputs": [],
   "source": [
    "import joblib\n",
    "joblib.dump(pipe, 'XGBoostPipeline')\n",
    "joblib.dump(bestparams, 'XGB_Best_Model')"
   ]
  },
  {
   "cell_type": "code",
   "execution_count": null,
   "id": "94504472",
   "metadata": {},
   "outputs": [],
   "source": [
    "joblib.load('XGB_Best_Model')"
   ]
  },
  {
   "cell_type": "code",
   "execution_count": null,
   "id": "391d70bf",
   "metadata": {},
   "outputs": [],
   "source": [
    "from sklearn.metrics import mean_squared_error, r2_score\n",
    "\n",
    "print(\n",
    "    f\"Train set, RMSE={mean_squared_error(y_train, rscv.predict(X_train), squared=False):.7f}\"\n",
    ")\n",
    "print(\n",
    "    f\"Test set, RMSE={mean_squared_error(y_test, rscv.predict(X_test), squared=False):.7f}\"\n",
    ")\n",
    "\n",
    "print(\n",
    "    f\"Train set r2, RMSE={r2_score(y_train, rscv.predict(X_train)):.7f}\"\n",
    ")\n",
    "print(\n",
    "    f\"Test set r2, RMSE={r2_score(y_test, rscv.predict(X_test)):.7f}\"\n",
    ")"
   ]
  },
  {
   "cell_type": "code",
   "execution_count": null,
   "id": "b5c00cdf",
   "metadata": {},
   "outputs": [],
   "source": []
  }
 ],
 "metadata": {
  "kernelspec": {
   "display_name": "Python 3 (ipykernel)",
   "language": "python",
   "name": "python3"
  },
  "language_info": {
   "codemirror_mode": {
    "name": "ipython",
    "version": 3
   },
   "file_extension": ".py",
   "mimetype": "text/x-python",
   "name": "python",
   "nbconvert_exporter": "python",
   "pygments_lexer": "ipython3",
   "version": "3.9.12"
  }
 },
 "nbformat": 4,
 "nbformat_minor": 5
}
